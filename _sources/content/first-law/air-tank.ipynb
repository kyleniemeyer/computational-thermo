{
 "cells": [
  {
   "cell_type": "markdown",
   "metadata": {},
   "source": [
    "# Air in a tank\n",
    "\n",
    "A spherical metal tank stores hot air, initially at 200°C and 350 psi.\n",
    "The tank is made out of stainless steel, with specific heat capacity 471 J/kg-K and density 7902 kg/m$^3$. The tank wall is 0.35 mm thick and initially at 20°C; the inner radius is 10 cm and the outer wall is insulated. \n",
    "\n",
    "Treat the air in the tank as an ideal gas and the stainless steel tank wall as an incompressible substance.\n",
    "\n",
    "Eventually the air reaches thermal equilibrium with the tank wall. Find the final temperature of the air and the tank, and the final pressure of the air."
   ]
  },
  {
   "cell_type": "code",
   "execution_count": 2,
   "metadata": {},
   "outputs": [],
   "source": [
    "import numpy as np\n",
    "from scipy import optimize\n",
    "import cantera as ct\n",
    "\n",
    "from pint import UnitRegistry\n",
    "ureg = UnitRegistry()\n",
    "Q_ = ureg.Quantity"
   ]
  },
  {
   "cell_type": "code",
   "execution_count": 3,
   "metadata": {},
   "outputs": [],
   "source": [
    "# input data\n",
    "tank_specific_heat = Q_(471, 'J/(kg*K)')\n",
    "tank_density = Q_(7902, 'kg/m^3')\n",
    "tank_radius = Q_(10, 'cm')\n",
    "tank_thickness = Q_(0.35, 'mm')\n",
    "\n",
    "tank_temp1 = Q_(20, 'degC')\n",
    "\n",
    "air_temp1 = Q_(200, 'degC')\n",
    "air_pres1 = Q_(350, 'psi')\n",
    "\n",
    "# use an ideal gas mixture to represent air\n",
    "air1 = ct.Solution('air.cti')\n",
    "air1.TPX = (\n",
    "    air_temp1.to('K').magnitude, \n",
    "    air_pres1.to('Pa').magnitude, \n",
    "    'O2:1.0, N2:3.76'\n",
    "    )"
   ]
  },
  {
   "cell_type": "code",
   "execution_count": 4,
   "metadata": {},
   "outputs": [],
   "source": [
    "air_volume = 4.0 * np.pi * tank_radius**3 / 3.0\n",
    "air_mass = air_volume / Q_(air1.v, 'm^3/kg')\n",
    "\n",
    "tank_volume = (4. * np.pi / 3.) * (\n",
    "    (tank_radius + tank_thickness)**3 - tank_radius**3\n",
    "    )\n",
    "tank_mass = tank_volume * tank_density"
   ]
  },
  {
   "cell_type": "markdown",
   "metadata": {},
   "source": [
    "During the equilibration process, the specific volume of the air does not change:\n",
    "\\begin{equation}\n",
    "v_{a,2} = v_{a,1} \\;.\n",
    "\\end{equation}\n",
    "\n",
    "We can perform an energy balance on the system that contains both the tank and air:\n",
    "\n",
    "$$\n",
    "0 = m_t ( u_{t,2} - u_{t,1} ) + m_a ( u_{a,2} - u_{a,1} ) \\\\\n",
    "0 = m_t c_{\\text{steel}} (T_{t,2} - T_{t,1}) - m_a ( u_{a,2} - u_{a,1} )\n",
    "$$\n",
    "\n",
    "and we know that at equilibrium the temperatures are the same: $T_{t,2} = T_{a,2}$.\n",
    "\n",
    "So, we fundamentally have **one** unknown, the final temperature, which we can solve using the final version of the energy balance:"
   ]
  },
  {
   "cell_type": "code",
   "execution_count": 5,
   "metadata": {},
   "outputs": [],
   "source": [
    "def tank_energy(T2, air_mass, air1, tank_mass, tank_specific_heat, tank_temp1):\n",
    "    '''Returns value of energy balance equation based on input T2\n",
    "    \n",
    "    This equation should return zero, if the correct T2 is input.\n",
    "    '''\n",
    "    # the temperatures are the same\n",
    "    tank_temp2 = Q_(T2, 'K')\n",
    "    air_temp2 = Q_(T2, 'K')\n",
    "    \n",
    "    air_specific_volume2 = Q_(air1.v, 'm^3/kg')\n",
    "    air_density2 = 1.0 / air_specific_volume2\n",
    "\n",
    "    air2 = ct.Solution('air.cti')\n",
    "    air2.TDX = (\n",
    "        air_temp2.to('K').magnitude,\n",
    "        air_density2.to('kg/m^3').magnitude,\n",
    "        'O2:1.0, N2:3.76'\n",
    "        )\n",
    "    \n",
    "    return (\n",
    "        tank_mass * tank_specific_heat * (tank_temp2 - tank_temp1) +\n",
    "        air_mass * (Q_(air2.u, 'J/kg') - Q_(air1.u, 'J/kg'))\n",
    "        ).to('J').magnitude"
   ]
  },
  {
   "cell_type": "code",
   "execution_count": 10,
   "metadata": {},
   "outputs": [
    {
     "name": "stdout",
     "output_type": "stream",
     "text": [
      "Final temperature: 64.83 degree_Celsius\n",
      "Final air pressure: 250.01 pound_force_per_square_inch\n"
     ]
    }
   ],
   "source": [
    "# find the root of the equation, with an initial guess of 300 K\n",
    "sol = optimize.root(\n",
    "    tank_energy, 300.0, \n",
    "    args=(air_mass, air1, tank_mass, tank_specific_heat, tank_temp1)\n",
    "    )\n",
    "\n",
    "# the solution is the first element of the sol.x list\n",
    "temp2 = Q_(sol.x[0], 'K')\n",
    "print(f'Final temperature: {temp2.to(\"degC\"): .2f}')\n",
    "\n",
    "air2 = ct.Solution('air.cti')\n",
    "air2.TDX = (\n",
    "    temp2.to('K').magnitude,\n",
    "    air1.density,\n",
    "    'O2:1.0, N2:3.76'\n",
    "    )\n",
    "air_pres2 = Q_(air2.P, 'Pa')\n",
    "print(f'Final air pressure: {air_pres2.to(\"psi\"): .2f}')"
   ]
  },
  {
   "cell_type": "markdown",
   "metadata": {},
   "source": [
    "## Alternate solution\n",
    "\n",
    "If we wanted, we could also solve this problem with a larger number of equations and unknowns, although as seen above this is not necessary. For example, we can treat $v_{a,2}$, $T_{a,2}$, $T_{t,2}$, and $u_{a,2}$ as the four unknowns, with the equations\n",
    "\n",
    "$$\n",
    "v_{a,2} = v_{a,1} \\\\\n",
    "T_{a,2} = T_{t,2} \\\\\n",
    "u_{a,2} = f \\left( T_{a,2}, v_{a,2} \\right)\n",
    "$$\n",
    "\n",
    "being added to the one used above."
   ]
  },
  {
   "cell_type": "code",
   "execution_count": 13,
   "metadata": {},
   "outputs": [
    {
     "name": "stdout",
     "output_type": "stream",
     "text": [
      "Final temperature of tank: 64.83 degree_Celsius\n",
      "Final temperature of air: 64.83 degree_Celsius\n",
      "Final air pressure: 250.01 pound_force_per_square_inch\n"
     ]
    }
   ],
   "source": [
    "def tank_energy2(x, air_mass, air1, tank_mass, tank_specific_heat, tank_temp1):\n",
    "    '''Returns value of energy balance equation based on input T2\n",
    "    \n",
    "    This equation should return zero, if the correct values are input.\n",
    "    \n",
    "    x: T_t2, v_a2, T_a2, u_a2\n",
    "    '''\n",
    "    tank_temp2 = Q_(x[0], 'K')\n",
    "    air_specific_volume2 = Q_(x[1], 'm^3/kg')\n",
    "    air_temp2 = Q_(x[2], 'K')\n",
    "    air_internal_energy2 = Q_(x[3], 'J/kg')\n",
    "    \n",
    "    air_density2 = 1.0 / air_specific_volume2\n",
    "\n",
    "    air2 = ct.Solution('air.cti')\n",
    "    air2.TDX = (\n",
    "        air_temp2.to('K').magnitude,\n",
    "        air_density2.to('kg/m^3').magnitude,\n",
    "        'O2:1.0, N2:3.76'\n",
    "        )\n",
    "    \n",
    "    return [\n",
    "        (tank_mass * tank_specific_heat * (tank_temp2 - tank_temp1) +\n",
    "         air_mass * (Q_(air2.u, 'J/kg') - Q_(air1.u, 'J/kg'))\n",
    "         ).to('J').magnitude,\n",
    "        (air_specific_volume2 - Q_(air1.v, 'm^3/kg')).to('m^3/kg').magnitude,\n",
    "        (air_temp2 - tank_temp2).to('K').magnitude,\n",
    "        (air_internal_energy2 - Q_(air2.u, 'J/kg')).to('J/kg').magnitude\n",
    "        ]\n",
    "\n",
    "# now we have to give guesses for all four variables\n",
    "sol = optimize.root(\n",
    "    tank_energy2, [300.0, air1.v, 300.0, air1.u], \n",
    "    args=(air_mass, air1, tank_mass, tank_specific_heat, tank_temp1)\n",
    "    )\n",
    "\n",
    "# the solution is the first element of the sol.x list\n",
    "tank_temp2 = Q_(sol.x[0], 'K')\n",
    "print(f'Final temperature of tank: {tank_temp2.to(\"degC\"): .2f}')\n",
    "air_temp2 = Q_(sol.x[2], 'K')\n",
    "print(f'Final temperature of air: {air_temp2.to(\"degC\"): .2f}')\n",
    "\n",
    "air2 = ct.Solution('air.cti')\n",
    "air2.TDX = (\n",
    "    air_temp2.to('K').magnitude,\n",
    "    1.0 / sol.x[1],\n",
    "    'O2:1.0, N2:3.76'\n",
    "    )\n",
    "air_pres2 = Q_(air2.P, 'Pa')\n",
    "print(f'Final air pressure: {air_pres2.to(\"psi\"): .2f}')"
   ]
  },
  {
   "cell_type": "markdown",
   "metadata": {},
   "source": [
    "As expected, we get the same answer as before, without any real benefits. In fact, this is a bit more work, since we had to specify four guess values instead of one."
   ]
  }
 ],
 "metadata": {
  "kernelspec": {
   "display_name": "Python 3 (ipykernel)",
   "language": "python",
   "name": "python3"
  },
  "language_info": {
   "codemirror_mode": {
    "name": "ipython",
    "version": 3
   },
   "file_extension": ".py",
   "mimetype": "text/x-python",
   "name": "python",
   "nbconvert_exporter": "python",
   "pygments_lexer": "ipython3",
   "version": "3.10.4"
  }
 },
 "nbformat": 4,
 "nbformat_minor": 4
}

{
 "cells": [
  {
   "cell_type": "markdown",
   "metadata": {},
   "source": [
    "# Portable cooling system\n",
    "\n",
    "A portable cooling system uses canisters of volume 2 L charged with refrigerant R134a at 20°C and quality 0.05 (i.e., vapor mass fraction). Heat is transfered from a person to the canister. Saturated vapor escapes from the canister when the pressure in the canister reaches 30°C, controlled by a relief valve. The cooling system stops working and must be discarded when it is empty of liquid refrigerant.\n",
    "\n",
    "**Problem:** Determine the cooling density of the system: the ratio of the amount of energy that can be absorbed before the canister is discarded to the initial system mass. Compare this to the cooling density of an ice pack (with latent heat of fusion of $\\Delta h_{\\text{fus}} = 333.6$ J/g)."
   ]
  },
  {
   "cell_type": "code",
   "execution_count": 1,
   "metadata": {},
   "outputs": [],
   "source": [
    "# load necessary modules\n",
    "\n",
    "# Numpy adds some useful numerical types and functions\n",
    "import numpy as np\n",
    "\n",
    "# Cantera will handle thermodynamic properties\n",
    "import cantera as ct\n",
    "\n",
    "# Pint gives us some helpful unit conversion\n",
    "from pint import UnitRegistry\n",
    "ureg = UnitRegistry()\n",
    "Q_ = ureg.Quantity"
   ]
  },
  {
   "cell_type": "markdown",
   "metadata": {},
   "source": [
    "Specify initial state:"
   ]
  },
  {
   "cell_type": "code",
   "execution_count": 4,
   "metadata": {},
   "outputs": [],
   "source": [
    "volume = Q_(2, 'liter')\n",
    "temp_charge = Q_(20, 'degC')\n",
    "quality_charge = 0.05\n",
    "\n",
    "initial = ct.Hfc134a()\n",
    "initial.TQ = temp_charge.to('K').magnitude, quality_charge"
   ]
  },
  {
   "cell_type": "markdown",
   "metadata": {},
   "source": [
    "Final state, based on the temperature when the relief valve opens and that the fluid is saturated vapor:"
   ]
  },
  {
   "cell_type": "code",
   "execution_count": 6,
   "metadata": {},
   "outputs": [],
   "source": [
    "final = ct.Hfc134a()\n",
    "temp_final = Q_(30, 'degC')\n",
    "quality_final = 1.0\n",
    "final.TQ = temp_final.to('K').magnitude, quality_final"
   ]
  },
  {
   "cell_type": "markdown",
   "metadata": {},
   "source": [
    "Do a mass balance on the system, over the process from state 1 to state 2:\n",
    "\\begin{equation}\n",
    "0 = m_{\\text{out}} + m_2 - m_1 \\;,\n",
    "\\end{equation}\n",
    "which we can use to find the mass that leaves the canister ($m_{\\text{out}}$):"
   ]
  },
  {
   "cell_type": "code",
   "execution_count": 7,
   "metadata": {},
   "outputs": [
    {
     "name": "stdout",
     "output_type": "stream",
     "text": [
      "mass that left the canister: 0.70 kilogram\n"
     ]
    }
   ],
   "source": [
    "mass_initial = volume / Q_(initial.v, 'm^3/kg')\n",
    "mass_final = volume / Q_(final.v, 'm^3/kg')\n",
    "mass_out = mass_initial - mass_final\n",
    "print(f'mass that left the canister: {mass_out.to(ureg.kg): .2f}')"
   ]
  },
  {
   "cell_type": "markdown",
   "metadata": {},
   "source": [
    "Next, we can perform an energy balance of the system over the process:\n",
    "\\begin{equation}\n",
    "Q_{\\text{in}} =  m_{\\text{out}}  h_{\\text{out}} + m_2 u_2 - m_1 u_1 \\;,\n",
    "\\end{equation}\n",
    "where $h_{\\text{out}}$ is the enthalpy of the refigerant leaving the system, which has the same properties as the final state in the tank (no liquid, and 30°C):"
   ]
  },
  {
   "cell_type": "code",
   "execution_count": 8,
   "metadata": {},
   "outputs": [],
   "source": [
    "heat_in = (\n",
    "    mass_out*Q_(final.h, 'J/kg') + \n",
    "    mass_final*Q_(final.u, 'J/kg') - \n",
    "    mass_initial*Q_(initial.u, 'J/kg')\n",
    "    )"
   ]
  },
  {
   "cell_type": "markdown",
   "metadata": {},
   "source": [
    "THe cooling density (neglecting the canister mass) is\n",
    "\\begin{equation}\n",
    "CD = \\frac{Q_{\\text{in}}}{m_1}\n",
    "\\end{equation}"
   ]
  },
  {
   "cell_type": "code",
   "execution_count": 9,
   "metadata": {},
   "outputs": [
    {
     "name": "stdout",
     "output_type": "stream",
     "text": [
      "cooling density: 49.37 hour * watt / kilogram\n",
      "cooling density of ice: 92.67 hour * watt / kilogram\n"
     ]
    }
   ],
   "source": [
    "cooling_density = heat_in / mass_initial\n",
    "cooling_density.ito('W hr/kg')\n",
    "print(f'cooling density: {cooling_density: .2f}')\n",
    "\n",
    "cooling_density_ice = Q_(333.6, 'J/g')\n",
    "cooling_density_ice.ito('W hr/kg')\n",
    "print(f'cooling density of ice: {cooling_density_ice: .2f}')"
   ]
  }
 ],
 "metadata": {
  "kernelspec": {
   "display_name": "Python 3 (ipykernel)",
   "language": "python",
   "name": "python3"
  },
  "language_info": {
   "codemirror_mode": {
    "name": "ipython",
    "version": 3
   },
   "file_extension": ".py",
   "mimetype": "text/x-python",
   "name": "python",
   "nbconvert_exporter": "python",
   "pygments_lexer": "ipython3",
   "version": "3.10.4"
  }
 },
 "nbformat": 4,
 "nbformat_minor": 4
}

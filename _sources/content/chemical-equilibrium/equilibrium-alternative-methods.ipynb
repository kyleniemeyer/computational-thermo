{
 "cells": [
  {
   "cell_type": "markdown",
   "metadata": {},
   "source": [
    "# Alternative methods for chemical equilibrium\n",
    "\n",
    "The methods previously examined for determining the equilibrium composition rely on knowing the chemical reaction(s) occurring, and can involve highly nonlinear equations.\n",
    "\n",
    "Fortunately, we have methods that do not require knowing what reaction(s) are occurring.\n",
    "We will compare two such solution methods:\n",
    "\n",
    "1. {ref}`gibbs-minimization`\n",
    "2. {ref}`lagrange-method`\n",
    "\n",
    "This modules introduces these methods using the same example as {doc}`equilibrium-constant`: consider a mixture with 1 kilomole of carbon monoxide (CO) that reacts with 0.5 kmol of oxygen (O$_2$) to form a mixture of CO, CO$_2$, and O$_2$, with the equilibrium conditions of 2500 K and (a) 1 atm (b) 10 atm. Find the equilibrium composition in terms of the mole fraction. Assume the mixture behaves as an ideal gas."
   ]
  },
  {
   "cell_type": "code",
   "execution_count": 1,
   "metadata": {},
   "outputs": [],
   "source": [
    "import numpy as np\n",
    "import cantera as ct\n",
    "from scipy.optimize import root, minimize\n",
    "\n",
    "from pint import UnitRegistry\n",
    "ureg = UnitRegistry()\n",
    "Q_ = ureg.Quantity"
   ]
  },
  {
   "cell_type": "code",
   "execution_count": 2,
   "metadata": {},
   "outputs": [],
   "source": [
    "# for convenience:\n",
    "def to_si(quant):\n",
    "    '''Converts a Pint Quantity to magnitude at base SI units.\n",
    "    '''\n",
    "    return quant.to_base_units().magnitude"
   ]
  },
  {
   "cell_type": "markdown",
   "metadata": {},
   "source": [
    "(gibbs-minimization)=\n",
    "## Direct minimization of Gibbs free energy\n",
    "\n",
    "One method to finding the equilibrium composition is to directly minimize the Gibbs free energy of the mixture.\n",
    "\n",
    "The total Gibbs free energy of the mixture is\n",
    "\n",
    "$$\n",
    "G = \\sum_{i=1}^C n_i \\mu_i \\;,\n",
    "$$\n",
    "\n",
    "where $C$ is the number of components (i.e., chemical species), $n_i$ is the number of moles of component $i$, and $\\mu_i$ is the chemical potential of component $i$.\n",
    "For an ideal gas in a mixture, the chemical potential can be calculated using\n",
    "\n",
    "$$\n",
    "\\mu_i = \\mu_i^{\\circ} + R_{\\text{univ}} T \\ln \\left( \\frac{y_i P}{P^{\\circ}} \\right) \\;,\n",
    "$$\n",
    "\n",
    "where $R_{\\text{univ}}$ is the universal gas constant, $P$ is the mixture pressure, \n",
    "$P^{\\circ}$ is the (standard-state) reference pressure (usually 1 atm or 100 kPa),\n",
    "and $\\mu_i^{\\circ}$ is the chemical potential of pure substance $i$ at temperature $T$ and reference pressure $P^{\\circ}$, which is the same as the standard-state molar specific Gibbs free energy $\\overline{g}_i^{\\circ}$:\n",
    "\n",
    "$$\n",
    "\\mu_i^{\\circ} = \\overline{g}_i^{\\circ} = \\overline{h}_i^{\\circ} - T \\overline{s}_i^{\\circ} \\;.\n",
    "$$\n",
    "\n",
    "This method works by treating this as an optimization problem, where the objective is to minimize $G$, which is a function of the composition $n_i$. \n",
    "\n",
    "**Constraints:** However, this problem is constrained because the amount of each element must be balanced:\n",
    "\n",
    "$$\n",
    "E_j = E_{0, j}\n",
    "$$\n",
    "\n",
    "where $E_j = \\sum_{i=1}^C n_i e_{i,j}$ is the number of moles of each element $j$ ($E$ is the total number of elements), $E_{0, j} = \\sum_{i=1}^C n_{0,i} e_{i,j}$ is the initial number of moles of each element, $n_{0,i}$ is the initial number of moles of each component $i$, and $e_{i,j}$ is the number of moles of element $j$ in component $i$ (defined by the chemical formula).\n",
    "\n",
    "In addition, the number of moles of each component must remain non-negative:\n",
    "\n",
    "$$\n",
    "n_i \\geq 0\n",
    "$$\n",
    "\n",
    "This is thus a **constrained optimization** problem—we can solve these for simpler problems, but they can become computationally expensive for a larger number of unknowns. For now, we can use the [`SLSQP`](https://docs.scipy.org/doc/scipy/reference/optimize.minimize-slsqp.html) optimization method provided by the SciPy [`minimize`](https://docs.scipy.org/doc/scipy/reference/generated/scipy.optimize.minimize.html) function.\n",
    "\n",
    "The formal statement of our problem is:\n",
    "\n",
    "$$\n",
    "\\min_{n_0, n_1, n_2} \\left( n_0 \\mu_0 (n_0, n_1, n_2) + n_1 \\mu_1 (n_0, n_1, n_2) + n_2 \\mu_2 (n_0, n_1, n_2) \\right) \\\\\n",
    "\\text{subject to:} \\quad \\sum_{i} n_i e_{i,0} - \\sum_{i} n_{0,i} e_{i,0} = 0\\\\\n",
    "\\phantom{subject to:} \\quad \\sum_{i} n_i e_{i,1} - \\sum_{i} n_{1,i} e_{i,0} = 0\\\\\n",
    "\\phantom{subject to:} \\quad n_0 \\geq 0 \\\\\n",
    "\\phantom{subject to:} \\quad n_1 \\geq 0 \\\\\n",
    "\\phantom{subject to:} \\quad n_2 \\geq 0\n",
    "$$\n",
    "\n",
    "We will need to define three functions:\n",
    "\n",
    "1. Evaluate the Gibbs free energy of the mixture,\n",
    "2. Evaluate the equality constraints on elemental balances\n",
    "3. Evaluate the inequality constraints on numbers of moles \n",
    "\n",
    "First, let's input the known information:"
   ]
  },
  {
   "cell_type": "code",
   "execution_count": 3,
   "metadata": {},
   "outputs": [],
   "source": [
    "# Known information\n",
    "\n",
    "components = ['CO', 'O2', 'CO2']\n",
    "moles_initial = np.array([1.0, 0.5, 0.0])\n",
    "\n",
    "temperature = Q_(2500, 'K')\n",
    "pressures = [1, 10] * Q_('atm')\n",
    "\n",
    "# elemental composition of species\n",
    "elemental_comp = np.array([\n",
    "    [1, 0, 1], # carbon\n",
    "    [1, 2, 2], # oxygen\n",
    "    ])\n",
    "\n",
    "# initial molar amounts of each element\n",
    "initial_elements = np.dot(elemental_comp, moles_initial)"
   ]
  },
  {
   "cell_type": "code",
   "execution_count": 4,
   "metadata": {},
   "outputs": [],
   "source": [
    "def calc_total_gibbs(moles, temperature, pressure, components, gas):\n",
    "    '''Evaluate Gibbs free energy of mixture, based on component numbers of moles.\n",
    "    '''\n",
    "    moles = Q_(moles, 'kmol')\n",
    "    mole_fractions = moles / np.sum(moles)\n",
    "    \n",
    "    # get standard-state Gibbs free energy of each component\n",
    "    gibbs = np.zeros(len(components))\n",
    "    for idx, comp in enumerate(components):\n",
    "        gas.TPX = (\n",
    "            to_si(temperature), to_si(Q_(1, 'atm')),\n",
    "            f'{comp}:1.0'\n",
    "            )\n",
    "        gibbs[idx] = gas.gibbs_mole\n",
    "        \n",
    "    gibbs *= Q_('J/kmol')\n",
    "    \n",
    "    gas_constant = Q_(ct.gas_constant, 'J/(kmol*K)')\n",
    "    chemical_potentials = (\n",
    "        gibbs + gas_constant * temperature * np.log(\n",
    "            mole_fractions * pressure / Q_(1.0, 'atm')\n",
    "            )\n",
    "        )\n",
    "    \n",
    "    # scale this result down\n",
    "    return to_si(np.sum(moles * chemical_potentials)) / 1e6\n",
    "\n",
    "\n",
    "# We need to define functions for the constraints:\n",
    "\n",
    "def inequality_cons(x):\n",
    "    '''Inequality constraint: all numbers of moles must be ≥ 0.\n",
    "    '''\n",
    "    return x\n",
    "    \n",
    "\n",
    "def equality_cons(x):\n",
    "    '''Equality constraint: Number of moles of each element remain constant.\n",
    "    '''\n",
    "    return np.dot(elemental_comp, x) - initial_elements"
   ]
  },
  {
   "cell_type": "markdown",
   "metadata": {},
   "source": [
    "```{margin} Potential issues\n",
    "Notice that this function evaluating Gibbs free energy of the mixture scales the result down by $10^6$.\n",
    "I found this was necessary for the solver to converge. However, this means that the function does not return the Gibbs free energy in units of J, but instead MJ.\n",
    "```"
   ]
  },
  {
   "cell_type": "code",
   "execution_count": 5,
   "metadata": {
    "scrolled": true
   },
   "outputs": [
    {
     "name": "stdout",
     "output_type": "stream",
     "text": [
      "Successful convergence:  True\n",
      "All moles non-negative:  True\n",
      "All elements balanced:  True\n",
      "\n",
      "Mole fractions at 1.0 standard_atmosphere:\n",
      "CO:  0.122\n",
      "O2:  0.061\n",
      "CO2:  0.817\n"
     ]
    }
   ],
   "source": [
    "# Solve for first pressure\n",
    "\n",
    "pressure = pressures[0]\n",
    "gas = ct.Solution('gri30.yaml')\n",
    "\n",
    "x0 = np.array([0.5, 0.5, 0.5])\n",
    "sol = minimize(\n",
    "    calc_total_gibbs, x0, method='SLSQP',\n",
    "    args=(temperature, pressure, components, gas),\n",
    "    constraints=[\n",
    "        {'type': 'eq','fun': equality_cons},\n",
    "        {'type': 'ineq','fun': inequality_cons}\n",
    "        ],\n",
    "    options={'maxiter': 1000}\n",
    "    )\n",
    "\n",
    "moles = sol.x\n",
    "mole_fractions = moles / np.sum(moles)\n",
    "\n",
    "print('Successful convergence: ', sol.success)\n",
    "\n",
    "# check constraints\n",
    "print('All moles non-negative: ', all(moles > 0))\n",
    "print('All elements balanced: ', all(equality_cons(moles) == 0))\n",
    "\n",
    "print()\n",
    "print(f'Mole fractions at {pressure: .1f}:')\n",
    "for idx, comp in enumerate(components):\n",
    "    print(f'{comp}: {mole_fractions[idx]: .3f}')"
   ]
  },
  {
   "cell_type": "code",
   "execution_count": 6,
   "metadata": {
    "scrolled": true
   },
   "outputs": [
    {
     "name": "stdout",
     "output_type": "stream",
     "text": [
      "Successful convergence:  True\n",
      "All moles non-negative:  True\n",
      "All elements balanced:  True\n",
      "\n",
      "Mole fractions at 10.0 standard_atmosphere:\n",
      "CO:  0.061\n",
      "O2:  0.030\n",
      "CO2:  0.909\n"
     ]
    },
    {
     "name": "stderr",
     "output_type": "stream",
     "text": [
      "/opt/homebrew/Caskroom/miniconda/base/envs/compthermo/lib/python3.10/site-packages/pint/numpy_func.py:303: RuntimeWarning: invalid value encountered in log\n",
      "  result_magnitude = func(*stripped_args, **stripped_kwargs)\n"
     ]
    }
   ],
   "source": [
    "# Now try next pressure\n",
    "\n",
    "pressure = pressures[1]\n",
    "gas = ct.Solution('gri30.yaml')\n",
    "\n",
    "x0 = np.array([0.5, 0.5, 0.5])\n",
    "sol = minimize(\n",
    "    calc_total_gibbs, x0, method='SLSQP',\n",
    "    args=(temperature, pressure, components, gas),\n",
    "    constraints=[\n",
    "        {'type': 'eq','fun': equality_cons},\n",
    "        {'type': 'ineq','fun': inequality_cons}\n",
    "        ],\n",
    "    options={'maxiter': 1000}\n",
    "    )\n",
    "\n",
    "moles = sol.x\n",
    "mole_fractions = moles / np.sum(moles)\n",
    "\n",
    "print('Successful convergence: ', sol.success)\n",
    "\n",
    "# check constraints\n",
    "print('All moles non-negative: ', all(moles > 0))\n",
    "print('All elements balanced: ', all(equality_cons(moles) == 0))\n",
    "\n",
    "print()\n",
    "print(f'Mole fractions at {pressure: .1f}:')\n",
    "for idx, comp in enumerate(components):\n",
    "    print(f'{comp}: {mole_fractions[idx]: .3f}')"
   ]
  },
  {
   "cell_type": "markdown",
   "metadata": {},
   "source": [
    "These results match the values we found previously—whew! 😅"
   ]
  },
  {
   "cell_type": "markdown",
   "metadata": {},
   "source": [
    "(lagrange-method)=\n",
    "## Lagrange's method of undetermined multipliers\n",
    "\n",
    "This method converts the problem into a system of algebraic equations, where the number of equations equal the number of unknowns. It does this by introducing a set of unknown multipliers, $\\lambda_j$, with one for each element in the system.\n",
    "\n",
    "Then, the system of equations we need to solve includes the element balances and equations involving the multipliers:\n",
    "\n",
    "$$\n",
    "\\sum_{i=1}^C n_i e_{i,j} - \\sum_{i=1}^C n_{0,i} e_{i,j} = 0 \\quad \\text{for } j=1, \\ldots, E \\;, \\\\\n",
    "\\mu_i + \\sum_{j=1}^E \\lambda_j e_{i,j} = 0 \\quad \\text{for } i=1, \\ldots, C \\;, \\\\\n",
    "$$\n",
    "\n",
    "where the unknowns are the numbers of moles for each compound $n_i$ where $i = 1, \\ldots, C$ and the multipliers for each element $\\lambda_j$ where $j = 1, \\ldots, E$.\n",
    "In this system, $e_{i,j}$ is the number of moles of element $j$ in component $i$, $n_{0,i}$ is the initial number of moles of component $i$, $\\mu_i$ is the chemical potential of component $i$, $E$ is the number of elements, and $C$ is the number of components (chemical species).\n",
    "\n",
    "The chemical potentials can be calculated for each component of an ideal gas:\n",
    "\n",
    "$$\n",
    "\\mu_i = \\mu_i^{\\circ} + R_{\\text{univ}} T \\ln \\left( \\frac{y_i P}{P^{\\circ}} \\right) \\;,\n",
    "$$\n",
    "\n",
    "where $R_{\\text{univ}}$ is the universal gas constant, $P$ is the mixture pressure, \n",
    "$P^{\\circ}$ is the (standard-state) reference pressure (usually 1 atm or 100 kPa),\n",
    "and $\\mu_i^{\\circ}$ is the chemical potential of pure substance $i$ at temperature $T$ and reference pressure $P^{\\circ}$, which is the same as the standard-state molar specific Gibbs free energy $\\overline{g}_i^{\\circ}$:\n",
    "\n",
    "$$\n",
    "\\mu_i^{\\circ} = \\overline{g}_i^{\\circ} = \\overline{h}_i^{\\circ} - T \\overline{s}_i^{\\circ} \\;.\n",
    "$$\n",
    "\n",
    "We can evaluate $\\overline{g}_i^{\\circ} (T)$ using a Cantera `Solution` object and specifying the temperature, pressure (using the 1 atm reference), and composition of each component as a pure substance."
   ]
  },
  {
   "cell_type": "code",
   "execution_count": 7,
   "metadata": {},
   "outputs": [],
   "source": [
    "# Known information\n",
    "\n",
    "components = ['CO', 'O2', 'CO2']\n",
    "moles_initial = np.array([1.0, 0.5, 0.0])\n",
    "\n",
    "# Elemental makeup of components\n",
    "elemental_comp = np.array([\n",
    "    [1, 0, 1], # carbon\n",
    "    [1, 2, 2], # oxygen\n",
    "    ])\n",
    "\n",
    "temperature = Q_(2500, 'K')\n",
    "pressures = [1, 10] * Q_('atm')"
   ]
  },
  {
   "cell_type": "code",
   "execution_count": 8,
   "metadata": {},
   "outputs": [],
   "source": [
    "def lagrange_system(x, temperature, pressure, components, \n",
    "                    gas, elemental_comp, moles_initial):\n",
    "    '''System of equations for Lagrange multiplier approach.\n",
    "    '''\n",
    "    moles = np.array([x[0], x[1], x[2]])\n",
    "    multipliers = np.array([x[3], x[4]])\n",
    "    \n",
    "    mole_fractions = moles / np.sum(moles)\n",
    "    \n",
    "    # get standard-state Gibbs free energy of each component\n",
    "    gibbs = np.zeros(len(components))\n",
    "    for idx, comp in enumerate(components):\n",
    "        gas.TPX = (\n",
    "            to_si(temperature), to_si(Q_(1, 'atm')),\n",
    "            f'{comp}:1.0'\n",
    "            )\n",
    "        gibbs[idx] = gas.gibbs_mole\n",
    "        \n",
    "    gibbs *= Q_('J/kmol')\n",
    "    \n",
    "    gas_constant = Q_(ct.gas_constant, 'J/(kmol*K)')\n",
    "    chemical_potentials = (\n",
    "        gibbs + gas_constant * temperature * np.log(\n",
    "            mole_fractions * pressure / Q_(1.0, 'atm')\n",
    "            )\n",
    "        )\n",
    "\n",
    "    # initial molar amounts of each element\n",
    "    initial_moles_elements = np.dot(elemental_comp, moles_initial)\n",
    "    moles_elements = np.dot(elemental_comp, moles)\n",
    "    \n",
    "    # We can take advantage of element-wise operations with these arrays,\n",
    "    # and concisely evaluate all the equations\n",
    "    element_equations = moles_elements - initial_moles_elements\n",
    "    multiplier_equations = to_si(\n",
    "        chemical_potentials + \n",
    "        np.dot(multipliers, elemental_comp) * Q_('J/kmol')\n",
    "        )\n",
    "    \n",
    "    # Return the set of equations joined together\n",
    "    return np.concatenate((element_equations, multiplier_equations))"
   ]
  },
  {
   "cell_type": "markdown",
   "metadata": {},
   "source": [
    "After setting up the function to evaluate the system of equations, we can solve for the equilibrium composition at the first pressure using the [`root`](https://docs.scipy.org/doc/scipy/reference/generated/scipy.optimize.root.html) function, with the `lm` (Levenberg-Marquardt) method. \n",
    "\n",
    "We do need to specify some initial guess values for each of the unknowns; while guess values for the numbers of moles of each component may be straightforward (e.g., typically around one), the Lagrange multipliers are more abstract and may take some trial and error."
   ]
  },
  {
   "cell_type": "code",
   "execution_count": 9,
   "metadata": {
    "scrolled": true
   },
   "outputs": [
    {
     "name": "stdout",
     "output_type": "stream",
     "text": [
      "Root-finding algorithm success:  True\n",
      "Function evaluation (should be small): [0.00000000e+00 4.44089210e-16 0.00000000e+00 0.00000000e+00\n",
      " 2.38418579e-10]\n",
      "Number of function evaluations:  84\n",
      "\n",
      "Mole fractions at 1.0 standard_atmosphere:\n",
      "CO:  0.122\n",
      "O2:  0.061\n",
      "CO2:  0.817\n"
     ]
    }
   ],
   "source": [
    "# Solve at first pressure\n",
    "\n",
    "pressure = pressures[0]\n",
    "gas = ct.Solution('gri30.yaml')\n",
    "\n",
    "# initial guesses\n",
    "x0 = [1.0, 1.0, 1.0, 1e6, 1e6]\n",
    "\n",
    "sol = root(\n",
    "    lagrange_system, x0, method='lm',\n",
    "    args=(temperature, pressure, components, gas, elemental_comp, moles_initial)\n",
    "    )\n",
    "\n",
    "print('Root-finding algorithm success: ', sol.success)\n",
    "print(f'Function evaluation (should be small): {sol.fun}')\n",
    "print('Number of function evaluations: ', sol.nfev)\n",
    "print()\n",
    "\n",
    "moles = sol.x[0:3]\n",
    "mole_fractions = moles / np.sum(moles)\n",
    "print(f'Mole fractions at {pressure: .1f}:')\n",
    "for idx, comp in enumerate(components):\n",
    "    print(f'{comp}: {mole_fractions[idx]: .3f}')"
   ]
  },
  {
   "cell_type": "code",
   "execution_count": 10,
   "metadata": {},
   "outputs": [
    {
     "name": "stdout",
     "output_type": "stream",
     "text": [
      "Root-finding algorithm success:  True\n",
      "Function evaluation (should be near zero): [0.0000000e+00 0.0000000e+00 0.0000000e+00 1.1920929e-10 1.1920929e-10]\n",
      "Number of function evaluations:  69\n",
      "\n",
      "Mole fractions at 10.0 standard_atmosphere:\n",
      "CO:  0.061\n",
      "O2:  0.030\n",
      "CO2:  0.909\n"
     ]
    }
   ],
   "source": [
    "pressure = pressures[1]\n",
    "gas = ct.Solution('gri30.yaml')\n",
    "\n",
    "x0 = [1.0, 1.0, 1.0, 1e6, 1e6]\n",
    "sol = root(\n",
    "    lagrange_system, x0, method='lm',\n",
    "    args=(temperature, pressure, components, gas, elemental_comp, moles_initial)\n",
    "    )\n",
    "\n",
    "print('Root-finding algorithm success: ', sol.success)\n",
    "print(f'Function evaluation (should be near zero): {sol.fun}')\n",
    "print('Number of function evaluations: ', sol.nfev)\n",
    "print()\n",
    "\n",
    "moles = sol.x[0:3]\n",
    "mole_fractions = moles / np.sum(moles)\n",
    "print(f'Mole fractions at {pressure: .1f}:')\n",
    "for idx, comp in enumerate(components):\n",
    "    print(f'{comp}: {mole_fractions[idx]: .3f}')"
   ]
  },
  {
   "cell_type": "markdown",
   "metadata": {},
   "source": [
    "As expected, this approach also produces the same equilibrium composition! 🎉"
   ]
  }
 ],
 "metadata": {
  "kernelspec": {
   "display_name": "Python 3 (ipykernel)",
   "language": "python",
   "name": "python3"
  },
  "language_info": {
   "codemirror_mode": {
    "name": "ipython",
    "version": 3
   },
   "file_extension": ".py",
   "mimetype": "text/x-python",
   "name": "python",
   "nbconvert_exporter": "python",
   "pygments_lexer": "ipython3",
   "version": "3.10.4"
  }
 },
 "nbformat": 4,
 "nbformat_minor": 4
}

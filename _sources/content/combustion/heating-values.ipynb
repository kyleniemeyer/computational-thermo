{
 "cells": [
  {
   "cell_type": "markdown",
   "metadata": {},
   "source": [
    "# Heating values"
   ]
  },
  {
   "cell_type": "markdown",
   "metadata": {},
   "source": [
    "```{margin} Source\n",
    "This module is adapted from the [example](https://cantera.org/examples/jupyter/thermo/heating_value.ipynb.html) provided on the Cantera website.\n",
    "```"
   ]
  },
  {
   "cell_type": "markdown",
   "metadata": {},
   "source": [
    "The **heating value** of a fuel is the heat of combustion (i.e., heat released during combustion) at the reference temperature, $T_{\\text{ref}}$ = 25°C, assuming complete combustion. This is a useful quantity, commonly used to represent the energy density of a fuel, or the thermal energy that can be obtained from a fuel."
   ]
  },
  {
   "cell_type": "markdown",
   "metadata": {},
   "source": [
    "We can calculate the heating value using a steady-state energy balance on the stoichiometric reaction per 1 kmole of fuel, at constant temperature, and assuming complete combustion. The heating value is then\n",
    "\n",
    "$$\n",
    "HV = H_R - H_P \\;,\n",
    "$$\n",
    "\n",
    "where $H_R$ is the enthalpy of the reactants (per kmol of fuel) and $H_P$ is the enthalpy of the products (per kmol of fuel).\n",
    "\n",
    "For example, let's find the heating value of propane (C$_3$H$_8$). Its balanced overall chemical reaction is:\n",
    "\n",
    "$$\n",
    "\\text{C}_3 \\text{H}_8 + 5 \\text{O}_2 \\rightarrow 3 \\text{CO}_2 + 4 \\text{H}_2 \\text{O}\n",
    "$$\n",
    "\n",
    "(We do not need to consider nitrogen, or worry about excess air, because the nitrogen and unreacted oxygen would have the same state in the reactants and products.)\n",
    "\n",
    "There are two heating values:\n",
    "\n",
    "- lower heating value: water in the products is vapor\n",
    "- higher heating value: water in the products is liquid\n",
    "\n",
    "Let's calculate the lower heating value first:"
   ]
  },
  {
   "cell_type": "code",
   "execution_count": 2,
   "metadata": {},
   "outputs": [],
   "source": [
    "import numpy as np\n",
    "import cantera as ct\n",
    "import pandas as pd\n",
    "\n",
    "from pint import UnitRegistry\n",
    "ureg = UnitRegistry()\n",
    "Q_ = ureg.Quantity\n",
    "\n",
    "# for convenience:\n",
    "def to_si(quant):\n",
    "    '''Converts a Pint Quantity to magnitude at base SI units.\n",
    "    '''\n",
    "    return quant.to_base_units().magnitude"
   ]
  },
  {
   "cell_type": "code",
   "execution_count": 3,
   "metadata": {},
   "outputs": [],
   "source": [
    "# fixed information\n",
    "\n",
    "temperature = Q_(25, 'degC').to('K')\n",
    "pressure = Q_(1, 'atm')"
   ]
  },
  {
   "cell_type": "markdown",
   "metadata": {
    "tags": []
   },
   "source": [
    "## Lower heating value\n",
    "\n",
    "To calculate the enthalpy of the reactants and products, we add up the specific molar enthalpy of each species:\n",
    "\n",
    "$$\n",
    "H = \\sum_{i=1}^C n_i \\overline{h}_{i} \\left( T_{\\text{ref}} \\right)  \\\\\n",
    "\\rightarrow H = n \\sum_{i=1}^C y_i \\overline{h}_{i} \\left( T_{\\text{ref}} \\right) \\;,\n",
    "$$\n",
    "\n",
    "where $C$ is the number of components in the reactants/products, $n_i$ is the number of moles of component $i$, $\\overline{h}_{i} (T)$ is the molar specific enthalpy of component $i$, $n$ is the total number of moles in the reactants/products, and $y_i$ is the mole fraction of component $i$ in the reactants/products."
   ]
  },
  {
   "cell_type": "markdown",
   "metadata": {},
   "source": [
    "```{margin} Careful about X/Y\n",
    "In the reference textbook, $y_i$ is the mole fraction of species $i$. However, in Cantera (and much of the combustion literature), $X_i$ is the mole fraction of species $i$, and $Y_i$ is the mass fraction. As a result, Cantera uses `X` for mole fraction and `Y` for mass fraction. Be careful!\n",
    "```"
   ]
  },
  {
   "cell_type": "code",
   "execution_count": 4,
   "metadata": {},
   "outputs": [
    {
     "name": "stdout",
     "output_type": "stream",
     "text": [
      "Lower heating value: 46348 kilojoule / kilogram\n"
     ]
    }
   ],
   "source": [
    "gas = ct.Solution('gri30.yaml')\n",
    "\n",
    "molecular_weight_propane = Q_(44.10, 'kg/kmol')\n",
    "\n",
    "# set state for reactants\n",
    "gas.TPX = to_si(temperature), to_si(pressure), 'C3H8:1, O2:5'\n",
    "moles_reactants = 1 + 5 # per mole of fuel\n",
    "enthalpy_reactants = moles_reactants * Q_(gas.enthalpy_mole, 'J/kmol')\n",
    "\n",
    "# product state\n",
    "gas.TPX = to_si(temperature), to_si(pressure), 'CO2:3, H2O:4'\n",
    "moles_products = 3 + 4 # per mole of fuel\n",
    "enthalpy_products = moles_products * Q_(gas.enthalpy_mole, 'J/kmol')\n",
    "\n",
    "heating_value_lower = (\n",
    "    enthalpy_reactants - enthalpy_products\n",
    "    ) / molecular_weight_propane\n",
    "print(f'Lower heating value: {heating_value_lower.to(\"kJ/kg\"): .0f}')"
   ]
  },
  {
   "cell_type": "markdown",
   "metadata": {},
   "source": [
    "## Higher heating value\n",
    "\n",
    "The higher heating value represents the case where all the water in the products is in the liquid phase. We can calculate this by adding the difference between the enthalpies of saturated water vapor and saturated liquid water at the reference temperature (times the number of moles of water):\n",
    "\n",
    "$$\n",
    "\\Delta \\overline{h}_{fg} = \\overline{h}_g \\left( T_{\\text{ref}} \\right) - \\overline{h}_f \\left( T_{\\text{ref}} \\right) \\;,\n",
    "$$\n",
    "\n",
    "which is the specific enthalpy change of vaporization.\n",
    "\n",
    "We can obtain this value by finding the molar specific enthalpy of saturated liquid water and saturated water vapor, by specifying the temperature and vapor fractions of 0 and 1 (e.g., with `TX`):"
   ]
  },
  {
   "cell_type": "code",
   "execution_count": 6,
   "metadata": {},
   "outputs": [
    {
     "name": "stdout",
     "output_type": "stream",
     "text": [
      "Higher heating value: 50339 kilojoule / kilogram\n"
     ]
    }
   ],
   "source": [
    "water = ct.Water()\n",
    "\n",
    "# liquid water\n",
    "water.TQ = to_si(temperature), 0.0\n",
    "enthalpy_liquid = Q_(water.enthalpy_mole, 'J/kmol')\n",
    "\n",
    "# water vapor\n",
    "water.TQ = to_si(temperature), 1.0\n",
    "enthalpy_vapor = Q_(water.enthalpy_mole, 'J/kmol')\n",
    "\n",
    "# moles of water in the products, per mole of fuel\n",
    "moles_water = 4\n",
    "\n",
    "heating_value_higher = (\n",
    "    enthalpy_reactants - enthalpy_products + \n",
    "    (enthalpy_vapor - enthalpy_liquid) * moles_water\n",
    "    ) / molecular_weight_propane\n",
    "print(f'Higher heating value: {heating_value_higher.to(\"kJ/kg\"): .0f}')"
   ]
  },
  {
   "cell_type": "markdown",
   "metadata": {},
   "source": [
    "## Calculate for other common fuels\n",
    "\n",
    "We can generalize the above calculations and find the higher and lower heating values for various common fuels.\n",
    "\n",
    "In this case, we need to determine the composition of the complete combustion products automatically. We can do this by recognizing that all carbon from the fuel ends up as CO$_2$, all hydrogen as H$_2$O, and all nitrogen as N$_2$ (if any in the fuel). \n",
    "The `elemental_mole_fraction` function provides this for the reactant mixture."
   ]
  },
  {
   "cell_type": "code",
   "execution_count": 7,
   "metadata": {},
   "outputs": [],
   "source": [
    "def get_heating_values(fuel):\n",
    "    \"\"\"Returns lower and higher heating values for fuel\n",
    "    \n",
    "    Arguments:\n",
    "    fuel -- species name for fuel (str)\n",
    "    \n",
    "    Returns:\n",
    "    lower heating value, higher heating value\n",
    "    \"\"\"\n",
    "    temperature = Q_(25, 'degC').to('K')\n",
    "    pressure = Q_(1, 'atm')\n",
    "    \n",
    "    gas = ct.Solution('gri30.yaml')\n",
    "    gas.TP = to_si(temperature), to_si(pressure)\n",
    "    gas.set_equivalence_ratio(1.0, fuel, 'O2:1.0')\n",
    "    \n",
    "    enthalpy_reactants = Q_(gas.enthalpy_mass, 'J/kg')\n",
    "    mass_fraction_fuel = gas.mass_fraction_dict()[fuel]\n",
    "    \n",
    "    mass_fractions_products = {\n",
    "        'CO2': gas.elemental_mole_fraction('C'),\n",
    "        'H2O': 0.5 * gas.elemental_mole_fraction('H'),\n",
    "        'N2': 0.5 * gas.elemental_mole_fraction('N')\n",
    "        }\n",
    "    \n",
    "    gas.TPX = to_si(temperature), to_si(pressure), mass_fractions_products\n",
    "    mass_fraction_water = gas.mass_fraction_dict()['H2O']\n",
    "    enthalpy_products = Q_(gas.enthalpy_mass, 'J/kg')\n",
    "    \n",
    "    heating_value_lower = (\n",
    "        enthalpy_reactants - enthalpy_products\n",
    "        ) / mass_fraction_fuel\n",
    "    \n",
    "    water = ct.Water()\n",
    "\n",
    "    # liquid water\n",
    "    water.TQ = to_si(temperature), 0.0\n",
    "    enthalpy_liquid = Q_(water.enthalpy_mass, 'J/kg')\n",
    "\n",
    "    # water vapor\n",
    "    water.TQ = to_si(temperature), 1.0\n",
    "    enthalpy_vapor = Q_(water.enthalpy_mass, 'J/kg')\n",
    "    \n",
    "    heating_value_higher = (\n",
    "        enthalpy_reactants - enthalpy_products + \n",
    "        (enthalpy_vapor - enthalpy_liquid) * mass_fraction_water\n",
    "        ) / mass_fraction_fuel\n",
    "    \n",
    "    return heating_value_lower, heating_value_higher"
   ]
  },
  {
   "cell_type": "code",
   "execution_count": 8,
   "metadata": {},
   "outputs": [
    {
     "data": {
      "text/html": [
       "<style type=\"text/css\">\n",
       "</style>\n",
       "<table id=\"T_f07c4\">\n",
       "  <thead>\n",
       "    <tr>\n",
       "      <th class=\"blank level0\" >&nbsp;</th>\n",
       "      <th id=\"T_f07c4_level0_col0\" class=\"col_heading level0 col0\" >Name</th>\n",
       "      <th id=\"T_f07c4_level0_col1\" class=\"col_heading level0 col1\" >Lower heating value (kJ/kg)</th>\n",
       "      <th id=\"T_f07c4_level0_col2\" class=\"col_heading level0 col2\" >Higher heating value (kJ/kg)</th>\n",
       "    </tr>\n",
       "  </thead>\n",
       "  <tbody>\n",
       "    <tr>\n",
       "      <th id=\"T_f07c4_level0_row0\" class=\"row_heading level0 row0\" >H2</th>\n",
       "      <td id=\"T_f07c4_row0_col0\" class=\"data row0 col0\" >hydrogen</td>\n",
       "      <td id=\"T_f07c4_row0_col1\" class=\"data row0 col1\" >119,953</td>\n",
       "      <td id=\"T_f07c4_row0_col2\" class=\"data row0 col2\" >141,777</td>\n",
       "    </tr>\n",
       "    <tr>\n",
       "      <th id=\"T_f07c4_level0_row1\" class=\"row_heading level0 row1\" >NH3</th>\n",
       "      <td id=\"T_f07c4_row1_col0\" class=\"data row1 col0\" >ammonia</td>\n",
       "      <td id=\"T_f07c4_row1_col1\" class=\"data row1 col1\" >18,604</td>\n",
       "      <td id=\"T_f07c4_row1_col2\" class=\"data row1 col2\" >22,479</td>\n",
       "    </tr>\n",
       "    <tr>\n",
       "      <th id=\"T_f07c4_level0_row2\" class=\"row_heading level0 row2\" >CH4</th>\n",
       "      <td id=\"T_f07c4_row2_col0\" class=\"data row2 col0\" >methane</td>\n",
       "      <td id=\"T_f07c4_row2_col1\" class=\"data row2 col1\" >50,025</td>\n",
       "      <td id=\"T_f07c4_row2_col2\" class=\"data row2 col2\" >55,510</td>\n",
       "    </tr>\n",
       "    <tr>\n",
       "      <th id=\"T_f07c4_level0_row3\" class=\"row_heading level0 row3\" >C2H6</th>\n",
       "      <td id=\"T_f07c4_row3_col0\" class=\"data row3 col0\" >ethane</td>\n",
       "      <td id=\"T_f07c4_row3_col1\" class=\"data row3 col1\" >47,510</td>\n",
       "      <td id=\"T_f07c4_row3_col2\" class=\"data row3 col2\" >51,900</td>\n",
       "    </tr>\n",
       "    <tr>\n",
       "      <th id=\"T_f07c4_level0_row4\" class=\"row_heading level0 row4\" >C2H4</th>\n",
       "      <td id=\"T_f07c4_row4_col0\" class=\"data row4 col0\" >ethylene</td>\n",
       "      <td id=\"T_f07c4_row4_col1\" class=\"data row4 col1\" >47,165</td>\n",
       "      <td id=\"T_f07c4_row4_col2\" class=\"data row4 col2\" >50,302</td>\n",
       "    </tr>\n",
       "    <tr>\n",
       "      <th id=\"T_f07c4_level0_row5\" class=\"row_heading level0 row5\" >C2H2</th>\n",
       "      <td id=\"T_f07c4_row5_col0\" class=\"data row5 col0\" >acetylene</td>\n",
       "      <td id=\"T_f07c4_row5_col1\" class=\"data row5 col1\" >48,277</td>\n",
       "      <td id=\"T_f07c4_row5_col2\" class=\"data row5 col2\" >49,967</td>\n",
       "    </tr>\n",
       "    <tr>\n",
       "      <th id=\"T_f07c4_level0_row6\" class=\"row_heading level0 row6\" >C3H8</th>\n",
       "      <td id=\"T_f07c4_row6_col0\" class=\"data row6 col0\" >propane</td>\n",
       "      <td id=\"T_f07c4_row6_col1\" class=\"data row6 col1\" >46,352</td>\n",
       "      <td id=\"T_f07c4_row6_col2\" class=\"data row6 col2\" >50,343</td>\n",
       "    </tr>\n",
       "  </tbody>\n",
       "</table>\n"
      ],
      "text/plain": [
       "<pandas.io.formats.style.Styler at 0x10f2769b0>"
      ]
     },
     "execution_count": 8,
     "metadata": {},
     "output_type": "execute_result"
    }
   ],
   "source": [
    "fuels = {\n",
    "    'H2': 'hydrogen', 'NH3': 'ammonia',\n",
    "    'CH4': 'methane', 'C2H6': 'ethane', 'C2H4': 'ethylene', \n",
    "    'C2H2': 'acetylene', 'C3H8': 'propane',\n",
    "    }\n",
    "\n",
    "df = pd.DataFrame(\n",
    "    [], \n",
    "    columns=['Name', 'Lower heating value (kJ/kg)', \n",
    "             'Higher heating value (kJ/kg)'\n",
    "            ],\n",
    "    index=fuels.keys()\n",
    "    )\n",
    "\n",
    "for fuel, name in fuels.items():\n",
    "    LHV, HHV = get_heating_values(fuel)\n",
    "    df['Name'][fuel] = name\n",
    "    df['Lower heating value (kJ/kg)'][fuel] = LHV.to('kJ/kg').magnitude\n",
    "    df['Higher heating value (kJ/kg)'][fuel] = HHV.to('kJ/kg').magnitude\n",
    "\n",
    "df.style.format({\n",
    "    'Lower heating value (kJ/kg)': '{:,.0f}',\n",
    "    'Higher heating value (kJ/kg)': '{:,.0f}',\n",
    "    })"
   ]
  }
 ],
 "metadata": {
  "kernelspec": {
   "display_name": "Python 3 (ipykernel)",
   "language": "python",
   "name": "python3"
  },
  "language_info": {
   "codemirror_mode": {
    "name": "ipython",
    "version": 3
   },
   "file_extension": ".py",
   "mimetype": "text/x-python",
   "name": "python",
   "nbconvert_exporter": "python",
   "pygments_lexer": "ipython3",
   "version": "3.10.4"
  }
 },
 "nbformat": 4,
 "nbformat_minor": 4
}

{
 "cells": [
  {
   "cell_type": "markdown",
   "metadata": {},
   "source": [
    "# Combustion\n",
    "\n",
    "Examining combustion problems (and chemical equilibrium problems) generally requires calculating thermodynamic properties of chemical species. \n",
    "\n",
    "Cantera makes it easy to both work with mixtures and pure components, and determine their thermodynamic properties, but it requires you to first load a model containing some model for these (typically represented as a set of coefficients for a high-order polynomial).\n",
    "\n",
    "## Built-in models\n",
    "\n",
    "Fortunately, Cantera comes with a few built-in models meant to be used for air, hydrogen/oxygen combustion, and natural gas combustion, which provide quick access to properties for many species:"
   ]
  },
  {
   "cell_type": "code",
   "execution_count": 1,
   "metadata": {},
   "outputs": [],
   "source": [
    "from textwrap import wrap\n",
    "import cantera as ct"
   ]
  },
  {
   "cell_type": "code",
   "execution_count": 2,
   "metadata": {
    "scrolled": true
   },
   "outputs": [
    {
     "name": "stdout",
     "output_type": "stream",
     "text": [
      "Species in 'air.yaml' model:\n",
      "O O2 N NO NO2 N2O N2 AR\n",
      "\n",
      "Species in 'h2o2.yaml' model:\n",
      "H2 H O O2 OH H2O HO2 H2O2 AR N2\n",
      "\n",
      "Species in 'gri30.yaml' model:\n",
      "H2 H O O2 OH H2O HO2 H2O2 C CH CH2 CH2(S) CH3 CH4 CO CO2 HCO\n",
      "CH2O CH2OH CH3O CH3OH C2H C2H2 C2H3 C2H4 C2H5 C2H6 HCCO\n",
      "CH2CO HCCOH N NH NH2 NH3 NNH NO NO2 N2O HNO CN HCN H2CN HCNN\n",
      "HCNO HOCN HNCO NCO N2 AR C3H7 C3H8 CH2CHO CH3CHO\n",
      "\n"
     ]
    }
   ],
   "source": [
    "# Models built into Cantera with commonly used gas species\n",
    "\n",
    "models = ['air.yaml', 'h2o2.yaml', 'gri30.yaml']\n",
    "\n",
    "for model in models:\n",
    "    gas = ct.Solution(model)\n",
    "    \n",
    "    print(f\"Species in '{model}' model:\")\n",
    "    lines = wrap(' '.join(gas.species_names), width=60, break_long_words=False)\n",
    "    for line in lines:\n",
    "        print(line)\n",
    "    print()"
   ]
  },
  {
   "cell_type": "markdown",
   "metadata": {},
   "source": [
    "We will frequently use the `gri30.yaml` model, which is the GRI-Mech 3.0 model originally developed to model natural gas combustion {cite}`gri30`."
   ]
  },
  {
   "cell_type": "markdown",
   "metadata": {},
   "source": [
    "Cantera also comes with a large database of thermodynamic properties for gases, which originally came from NASA {cite}`Gordon1971,McBride1993`. \n",
    "\n",
    "Due to the large number of components present, and the sometimes-unusual naming, it may be a bit challenging to easily find a compound you are looking for; the easiest way may be to search the [full file available online](https://github.com/Cantera/cantera/blob/master/data/inputs/nasa_gas.cti)."
   ]
  },
  {
   "cell_type": "code",
   "execution_count": 3,
   "metadata": {
    "scrolled": true
   },
   "outputs": [
    {
     "name": "stdout",
     "output_type": "stream",
     "text": [
      "Number of species:  748\n"
     ]
    }
   ],
   "source": [
    "species = {S.name: S for S in ct.Species.list_from_file('nasa_gas.yaml')}\n",
    "\n",
    "print('Number of species: ', len(species))"
   ]
  },
  {
   "cell_type": "markdown",
   "metadata": {},
   "source": [
    "Let's say that we want to consider the complete combustion of gasoline in air. Gasoline is a very complex mixture of large hydrocarbons, without a fixed composition, but we can model it as a mixture of _n_-heptane (C$_{7}$H$_{16}$) and isooctane (C$_{8}$H$_{18}$). (These actually represent 0 and 100 on the octane rating.)\n",
    "\n",
    "After searching the NASA database, we find these species as `C7H16,n-heptane` and `C8H18,isooctane`, so we can extract them, the components of air, and the complete combustion products:"
   ]
  },
  {
   "cell_type": "code",
   "execution_count": 4,
   "metadata": {},
   "outputs": [],
   "source": [
    "complete_species = [species[S] for S in (\n",
    "    'C7H16,n-heptane', 'C8H18,isooctane', 'O2', 'N2', 'CO2', 'H2O'\n",
    "    )]\n",
    "gas = ct.Solution(thermo='IdealGas', species=complete_species)"
   ]
  },
  {
   "cell_type": "markdown",
   "metadata": {},
   "source": [
    "Then, we can specify a stoichiometric mixture of 87% isooctane \\ 13% _n_-heptane by mole, at standard conditions:"
   ]
  },
  {
   "cell_type": "code",
   "execution_count": 5,
   "metadata": {},
   "outputs": [
    {
     "name": "stdout",
     "output_type": "stream",
     "text": [
      "\n",
      "       temperature   298.15 K\n",
      "          pressure   1.0132e+05 Pa\n",
      "           density   1.2366 kg/m^3\n",
      "  mean mol. weight   30.254 kg/kmol\n",
      "   phase of matter   gas\n",
      "\n",
      "                          1 kg             1 kmol     \n",
      "                     ---------------   ---------------\n",
      "          enthalpy       -1.2168e+05       -3.6813e+06  J\n",
      "   internal energy       -2.0362e+05       -6.1603e+06  J\n",
      "           entropy            6718.8        2.0327e+05  J/K\n",
      "    Gibbs function       -2.1249e+06       -6.4285e+07  J\n",
      " heat capacity c_p            1051.1             31800  J/K\n",
      " heat capacity c_v            776.28             23485  J/K\n",
      "\n",
      "                      mass frac. Y      mole frac. X     chem. pot. / RT\n",
      "                     ---------------   ---------------   ---------------\n",
      "   C7H16,n-heptane         0.0072279         0.0021822           -133.37\n",
      "   C8H18,isooctane          0.055143          0.014604           -145.48\n",
      "                O2           0.21847           0.20656           -26.251\n",
      "                N2           0.71916           0.77666           -23.298\n",
      "     [   +2 minor]                 0                 0  \n",
      "\n"
     ]
    }
   ],
   "source": [
    "gas.TP = 298.15, ct.one_atm\n",
    "gas.set_equivalence_ratio(\n",
    "    1.0, 'C7H16,n-heptane: 0.13, C8H18,isooctane: 0.87',\n",
    "    'O2: 1.0, N2: 3.76'\n",
    "    )\n",
    "gas()"
   ]
  },
  {
   "cell_type": "markdown",
   "metadata": {},
   "source": [
    "Then, we can determine the equilibrium composition and adiabatic flame temperature, after complete combustion:"
   ]
  },
  {
   "cell_type": "code",
   "execution_count": 6,
   "metadata": {},
   "outputs": [
    {
     "name": "stdout",
     "output_type": "stream",
     "text": [
      "\n",
      "       temperature   2403.1 K\n",
      "          pressure   1.0132e+05 Pa\n",
      "           density   0.14506 kg/m^3\n",
      "  mean mol. weight   28.604 kg/kmol\n",
      "   phase of matter   gas\n",
      "\n",
      "                          1 kg             1 kmol     \n",
      "                     ---------------   ---------------\n",
      "          enthalpy       -1.2168e+05       -3.4806e+06  J\n",
      "   internal energy       -8.2019e+05       -2.3461e+07  J\n",
      "           entropy            9614.1          2.75e+05  J/K\n",
      "    Gibbs function       -2.3225e+07       -6.6433e+08  J\n",
      " heat capacity c_p            1474.8             42186  J/K\n",
      " heat capacity c_v            1184.2             33872  J/K\n",
      "\n",
      "                      mass frac. Y      mole frac. X     chem. pot. / RT\n",
      "                     ---------------   ---------------   ---------------\n",
      "   C7H16,n-heptane        1.0681e-11        3.0489e-12           -131.47\n",
      "                O2        3.7548e-11        3.3566e-11           -53.551\n",
      "                N2           0.71916           0.73431           -27.884\n",
      "               CO2           0.19218           0.12491           -54.508\n",
      "               H2O          0.088662           0.14078           -42.372\n",
      "     [   +1 minor]        8.7243e-15        2.1846e-15  \n",
      "\n"
     ]
    }
   ],
   "source": [
    "gas.equilibrate('HP')\n",
    "gas()"
   ]
  },
  {
   "cell_type": "markdown",
   "metadata": {},
   "source": [
    "## Finding other models\n",
    "\n",
    "You might face a problem that requires thermodynamic properties for compounds not available in the built-in models. In that case, you might need to find an entire model that contains the compound(s) of interest, or at least the thermodynamic parameters for each species.\n",
    "\n",
    "You may find models for particular systems by searching the combustion/thermodynamics literature (i.e., Google Scholar). These models, either available as supplementary material for a journal article or via a research group's website, typically come in the older Chemkin format, which needs to be [converted to Cantera's YAML format](https://cantera.org/tutorials/ck2yaml-tutorial.html).\n",
    "\n",
    "Another powerful source of thermodynamics information is the Reaction Mechanism Generator (RMG) [Molecule Search](https://rmg.mit.edu/molecule_search) {cite}`Allen2012,Magoon2013,Gao2016`, which offers the ability to both search for information in its databases but also estimate properties for any molecule. \n",
    "\n",
    "For example, say we want to calculate thermodynamic properties for toluene (C$_6$H$_5$CH$_3$, or C$_7$H$_8$). You can go to the [RMG Molecule Search](https://rmg.mit.edu/molecule_search), enter `toluene` in the \"Species Identifier\" field and hit tab. Then, after the site responds, click \"Search Thermochemistry\". \n",
    "This brings up multiple entries for this molecule. \n",
    "\n",
    "Let's use the \"USC-Mech_ii\" result. This includes the CHEMKIN format NASA Polynomial:\n",
    "```\n",
    "! USC-Mech-ii\n",
    "C7H8                    C   7H   8          G   100.000  5000.000 1073.72      1\n",
    " 9.30667130E+00 3.36713230E-02-1.41158452E-05 2.69973752E-09-1.93204076E-13    2\n",
    " 5.79813528E+02-2.68610894E+01 2.05719474E+00 3.12152776E-02 3.04758250E-05    3\n",
    "-5.05435593E-08 1.81542493E-11 3.83493690E+03 1.65378111E+01                   4\n",
    "```\n",
    "which contains the elemental composition (7 C and 8 H), the phase (`G`: gas), the temperature ranges for applicability of this model, and 14 polynomials used to obtain the standard-state specific heat, enthalpy, and entropy as a function of temperature. The first seven coefficients are for the upper temperature range (specified by the middle and high temperatures, 1073.72 and 5000 K here), and the next seven coefficients are for the lower temperature range (100 to 1073.72 K here).\n",
    "\n",
    "We can take this information and create a Cantera `Species` object, with the name `C6H5CH3`:"
   ]
  },
  {
   "cell_type": "code",
   "execution_count": 12,
   "metadata": {},
   "outputs": [],
   "source": [
    "species_toluene = ct.Species.from_yaml(\n",
    "'''name: C6H5CH3\n",
    "composition: {C: 7, H: 8}\n",
    "thermo:\n",
    "  model: NASA7\n",
    "  temperature-ranges: [100.00, 1073.72, 5000.00]\n",
    "  data:\n",
    "  - [2.05719474e+00, 3.12152776E-02, 3.04758250E-05, -5.05435593E-08, \n",
    "     1.81542493E-11, 3.83493690E+03, 1.65378111E+01]\n",
    "  - [9.30667130E+00, 3.36713230E-02, -1.41158452E-05, 2.69973752E-09, \n",
    "    -1.93204076E-13, 5.79813528E+02, -2.68610894E+01]'''\n",
    "    )"
   ]
  },
  {
   "cell_type": "markdown",
   "metadata": {},
   "source": [
    "Then, we can create a new model that contains toluene (`C6H5CH3`), as well as the components of air and the complete combustion products:"
   ]
  },
  {
   "cell_type": "code",
   "execution_count": 13,
   "metadata": {},
   "outputs": [
    {
     "name": "stdout",
     "output_type": "stream",
     "text": [
      "\n",
      "       temperature   2502.7 K\n",
      "          pressure   1.0132e+05 Pa\n",
      "           density   0.14423 kg/m^3\n",
      "  mean mol. weight   29.619 kg/kmol\n",
      "   phase of matter   gas\n",
      "\n",
      "                          1 kg             1 kmol     \n",
      "                     ---------------   ---------------\n",
      "          enthalpy             37684        1.1162e+06  J\n",
      "   internal energy       -6.6486e+05       -1.9692e+07  J\n",
      "           entropy            9365.6         2.774e+05  J/K\n",
      "    Gibbs function       -2.3402e+07       -6.9313e+08  J\n",
      " heat capacity c_p            1422.6             42136  J/K\n",
      " heat capacity c_v            1141.9             33821  J/K\n",
      "\n",
      "                      mass frac. Y      mole frac. X     chem. pot. / RT\n",
      "                     ---------------   ---------------   ---------------\n",
      "                O2        7.4923e-10        6.9353e-10           -50.677\n",
      "                N2           0.71379           0.75468           -27.993\n",
      "               CO2           0.23195           0.15611           -53.742\n",
      "               H2O          0.054257          0.089206           -42.539\n",
      "           C6H5CH3        2.3972e-10        7.7059e-11           -90.259\n",
      "\n"
     ]
    }
   ],
   "source": [
    "species = {S.name: S for S in ct.Species.list_from_file('gri30.yaml')}\n",
    "complete_species = [species[S] for S in ('O2', 'N2', 'CO2', 'H2O')]\n",
    "complete_species += [species_toluene]\n",
    "                                         \n",
    "gas = ct.Solution(thermo='IdealGas', species=complete_species)\n",
    "\n",
    "gas.TP = 298.15, ct.one_atm\n",
    "gas.set_equivalence_ratio(1.0, 'C6H5CH3: 1.0', 'O2: 1.0, N2: 3.76')\n",
    "gas.equilibrate('HP')\n",
    "gas()"
   ]
  }
 ],
 "metadata": {
  "kernelspec": {
   "display_name": "Python 3 (ipykernel)",
   "language": "python",
   "name": "python3"
  },
  "language_info": {
   "codemirror_mode": {
    "name": "ipython",
    "version": 3
   },
   "file_extension": ".py",
   "mimetype": "text/x-python",
   "name": "python",
   "nbconvert_exporter": "python",
   "pygments_lexer": "ipython3",
   "version": "3.10.4"
  }
 },
 "nbformat": 4,
 "nbformat_minor": 4
}

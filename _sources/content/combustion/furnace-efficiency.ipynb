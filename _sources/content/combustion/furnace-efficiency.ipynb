{
 "cells": [
  {
   "cell_type": "markdown",
   "metadata": {},
   "source": [
    "# Second Law efficiency of a furnace\n",
    "\n",
    "A conventional furnace provides space heating to a building, as shown here:\n",
    "\n",
    "![Conventional furnace](../../images/furnace.pdf)\n",
    "\n",
    "The furnace combusts methane with 200% excess dry air ($ea = 2$). The air and methane enter the combustor at $T_{\\text{in}}$ = -10°C and $P_{\\text{in}}$ = 1 atm.\n",
    "The furnace heats the building ($Q_{\\text{out}}$), which is maintained at $T_{\\text{bldg}}$ = 22°C. The combustion products leave at $T_{\\text{out}}$ = 150°C and $P_{\\text{out}}$ = 1 atm.\n",
    "\n",
    "Assumptions: the only combustion products are carbon dioxide, water, nitrogen, and oxygen (for excess air in the reactants). The gases follow the ideal gas law.\n",
    "\n",
    "**Problems:**\n",
    "\n",
    "- Determine the First Law efficiency of the furnace based on the higher and lower heating values of the fuel.\n",
    "- Determine the Second Law efficiency of the furnace.\n",
    "\n",
    "This problem also demonstrates how to use {ref}`using-mixture` and how to determine the {ref}`exergy-fuel`.\n",
    "\n",
    "First, we should import the necessary modules and enter the given information."
   ]
  },
  {
   "cell_type": "code",
   "execution_count": 1,
   "metadata": {},
   "outputs": [],
   "source": [
    "import numpy as np\n",
    "import cantera as ct\n",
    "from scipy.optimize import root\n",
    "\n",
    "from pint import UnitRegistry\n",
    "ureg = UnitRegistry()\n",
    "Q_ = ureg.Quantity"
   ]
  },
  {
   "cell_type": "code",
   "execution_count": 2,
   "metadata": {},
   "outputs": [],
   "source": [
    "# for convenience:\n",
    "def to_si(quant):\n",
    "    '''Converts a Pint Quantity to magnitude at base SI units.\n",
    "    '''\n",
    "    return quant.to_base_units().magnitude"
   ]
  },
  {
   "cell_type": "code",
   "execution_count": 3,
   "metadata": {},
   "outputs": [],
   "source": [
    "# given information\n",
    "temperature_in = Q_(-10, 'degC').to('K')  # also dead state temperature\n",
    "pressure_in = Q_(1, 'atm')  # also dead state pressure\n",
    "\n",
    "temperature_building = Q_(22, 'degC').to('K')\n",
    "\n",
    "temperature_out = Q_(150, 'degC').to('K')\n",
    "pressure_out = Q_(1, 'atm')\n",
    "\n",
    "excess_air = 2.0"
   ]
  },
  {
   "cell_type": "markdown",
   "metadata": {},
   "source": [
    "## First Law efficiency\n",
    "\n",
    "To calculate the First Law efficiency of the furnace, we need to determine its heat output, and also the lower and higher heating values of the fuel. \n",
    "\n",
    "The heat output comes from an energy balance on the system:\n",
    "\n",
    "$$\n",
    "H_{\\text{reac}} = Q_{\\text{out}} + H_{\\text{prod}} \\;,\n",
    "$$\n",
    "\n",
    "where $H_{\\text{reac}}$ and $H_{\\text{prod}}$ are the enthalpies of the reactants and products, respectively. To determine these enthalpy values, we need to determine the relative amounts of each component in the reactants and products.\n",
    "\n",
    "### Reaction stoichiometry\n",
    "\n",
    "The stoichiometric reaction of methane with air is\n",
    "\n",
    "$$\n",
    "\\text{CH}_4 + a_s \\left( 0.21 \\text{O}_2 + 0.79 \\text{N}2 \\right) \\rightarrow b_s \\text{CO}_2 + c_s \\text{H}_2 \\text{O} + d_s \\text{N}_2\n",
    "$$\n",
    "\n",
    "and we can solve for the unknown coefficients based on elemental balances of carbon, hydrogen, oxygen, and nitrogen:\n",
    "\n",
    "$$\n",
    "1 = b_s \\\\\n",
    "4 = 2 c_s \\\\\n",
    "a_s (0.21) 2 = 2 b_s + c_s \\\\\n",
    "a_s (0.79) 2 = 2 d_s\n",
    "$$"
   ]
  },
  {
   "cell_type": "code",
   "execution_count": 4,
   "metadata": {},
   "outputs": [],
   "source": [
    "coeffs_stoich = {}\n",
    "\n",
    "coeffs_stoich['CO2'] = 1\n",
    "coeffs_stoich['H2O'] = 4 / 2\n",
    "coeffs_stoich['air'] = (\n",
    "    2 * coeffs_stoich['CO2'] + coeffs_stoich['H2O']\n",
    "    ) / (0.21 * 2)\n",
    "coeffs_stoich['N2'] = coeffs_stoich['air'] * 0.79 * 2 / 2"
   ]
  },
  {
   "cell_type": "markdown",
   "metadata": {},
   "source": [
    "Then, the actual reaction with excess air is\n",
    "\n",
    "$$\n",
    "\\text{CH}_4 + a \\left( 0.21 \\text{O}_2 + 0.79 \\text{N}2 \\right) \\rightarrow b \\text{CO}_2 + c \\text{H}_2 \\text{O} + d \\text{N}_2 + e \\text{O}_2\n",
    "$$\n",
    "\n",
    "where $a$ is based on the amount of excess air, with respect to the stoichiometric amount of air:\n",
    "\n",
    "$$\n",
    "a = (1 + ea) a_s\n",
    "$$\n",
    "\n",
    "We can also find the actual coefficients by balancing each of the elements:\n",
    "\n",
    "$$\n",
    "1 = b \\\\\n",
    "4 = 2 c \\\\\n",
    "a (0.21) 2 = 2 b + c + 2e \\\\\n",
    "a (0.79) 2 = 2 d\n",
    "$$"
   ]
  },
  {
   "cell_type": "code",
   "execution_count": 5,
   "metadata": {},
   "outputs": [
    {
     "name": "stdout",
     "output_type": "stream",
     "text": [
      "Moles of reaction participants, per mole of fuel:\n",
      "air:  28.57\n",
      "CO2:  1.00\n",
      "H2O:  2.00\n",
      "O2:  4.00\n",
      "N2:  22.57\n"
     ]
    }
   ],
   "source": [
    "coeffs = {}\n",
    "\n",
    "coeffs['air'] = (1 + excess_air) * coeffs_stoich['air']\n",
    "\n",
    "coeffs['CO2'] = 1\n",
    "coeffs['H2O'] = 4 / 2\n",
    "coeffs['O2'] = (\n",
    "    coeffs['air'] * 0.21 * 2 - 2 * coeffs['CO2'] - coeffs['H2O']\n",
    "    ) / 2\n",
    "coeffs['N2'] = coeffs['air'] * 0.79 * 2 / 2\n",
    "\n",
    "print('Moles of reaction participants, per mole of fuel:')\n",
    "for species, value in coeffs.items():\n",
    "    print(f'{species}: {value: .2f}')"
   ]
  },
  {
   "cell_type": "markdown",
   "metadata": {},
   "source": [
    "Next, to carry out the energy balance, we need to find the phase of the water in the combustion products. To do this, we can determine the dew point temperature, based on the saturation temperature of water at its partial pressure, and compare with the temperature of the products.\n",
    "\n",
    "The partial pressure of water vapor in the products is\n",
    "\n",
    "$$\n",
    "P_v = y_v P_{\\text{out}} \\;,\n",
    "$$\n",
    "\n",
    "where $y_v$ is the mole fraction of water vapor (assuming no condensation):\n",
    "\n",
    "$$\n",
    "y_v = \\frac{c}{b + c + d + e} \\;.\n",
    "$$"
   ]
  },
  {
   "cell_type": "code",
   "execution_count": 7,
   "metadata": {},
   "outputs": [
    {
     "name": "stdout",
     "output_type": "stream",
     "text": [
      "Dew point temperature: 311.80 kelvin\n",
      "Products temperature: 423.15 kelvin\n",
      "Products temperature above dew point temperature: True\n"
     ]
    }
   ],
   "source": [
    "# mole fraction of water vapor (no condensation)\n",
    "mole_fraction_water = coeffs['H2O'] / (\n",
    "    coeffs['CO2'] + coeffs['H2O'] + coeffs['N2'] + coeffs['O2']\n",
    "    )\n",
    "pressure_water = mole_fraction_water * pressure_out\n",
    "\n",
    "water = ct.Water()\n",
    "\n",
    "# saturated water vapor\n",
    "water.PQ = to_si(pressure_water), 1.0\n",
    "temperature_dewpoint = Q_(water.T, 'K')\n",
    "\n",
    "print(f'Dew point temperature: {temperature_dewpoint: .2f}')\n",
    "print(f'Products temperature: {temperature_out: .2f}')\n",
    "\n",
    "print('Products temperature above dew point temperature: '\n",
    "      f'{temperature_out > temperature_dewpoint}'\n",
    "      )"
   ]
  },
  {
   "cell_type": "markdown",
   "metadata": {},
   "source": [
    "Since the temperature of the exhaust is higher than the dew point temperature, the water in the products is entirely in the vapor phase (i.e., superheated vapor).\n",
    "\n",
    "### Calculate enthalpies\n",
    "\n",
    "Now, we can calculate the enthalpies of the reactants and products (per mole of fuel), based on the molar specific enthalpy of the components in each:"
   ]
  },
  {
   "cell_type": "code",
   "execution_count": 8,
   "metadata": {},
   "outputs": [],
   "source": [
    "enthalpies_reactants = {}\n",
    "enthalpies_products = {}\n",
    "\n",
    "# enthalpy of reactants\n",
    "reactants = ['CH4', 'O2', 'N2']\n",
    "gas = ct.Solution('gri30.yaml')\n",
    "\n",
    "for reactant in reactants:\n",
    "    gas.TPX = (\n",
    "        to_si(temperature_in), to_si(pressure_in), \n",
    "        f'{reactant}:1.0'\n",
    "        )\n",
    "    enthalpies_reactants[reactant] = Q_(gas.enthalpy_mole, 'J/kmol')\n",
    "\n",
    "# per kmol of fuel\n",
    "enthalpy_reactants = (\n",
    "    enthalpies_reactants['CH4'] + coeffs['air'] * (\n",
    "        0.21 * enthalpies_reactants['O2'] + \n",
    "        0.79 * enthalpies_reactants['N2']\n",
    "        )\n",
    "    )"
   ]
  },
  {
   "cell_type": "code",
   "execution_count": 9,
   "metadata": {},
   "outputs": [],
   "source": [
    "products = ['CO2', 'H2O', 'N2', 'O2']\n",
    "gas = ct.Solution('gri30.yaml')\n",
    "\n",
    "for product in products:\n",
    "    gas.TPX = (\n",
    "        to_si(temperature_out), to_si(pressure_out), \n",
    "        f'{product}:1.0'\n",
    "        )\n",
    "    enthalpies_products[product] = Q_(gas.enthalpy_mole, 'J/kmol')\n",
    "\n",
    "# per kmol of fuel\n",
    "enthalpy_products = sum([\n",
    "    coeffs[p] * enthalpies_products[p] for p in products\n",
    "    ])"
   ]
  },
  {
   "cell_type": "markdown",
   "metadata": {},
   "source": [
    "We can now calculate the heat output of the furnace, per kmol of fuel:"
   ]
  },
  {
   "cell_type": "code",
   "execution_count": 10,
   "metadata": {},
   "outputs": [
    {
     "name": "stdout",
     "output_type": "stream",
     "text": [
      "Heat output: 661.43 megajoule / kilomole\n"
     ]
    }
   ],
   "source": [
    "heat = enthalpy_reactants - enthalpy_products\n",
    "print(f'Heat output: {heat.to(\"MJ/kmol\"): .2f}')"
   ]
  },
  {
   "cell_type": "markdown",
   "metadata": {},
   "source": [
    "(using-mixture)=\n",
    "### Calculate enthalpies using mixture object\n",
    "\n",
    "Rather than manually calculating the enthalpy of each component of the reactants and products separately and then combining, we could also calculate the enthalpy of the reactants and products as mixtures, using a Cantera `Solution` object for each.\n",
    "\n",
    "We can specify the mixture state with the temperature, pressure, and calculated numbers of moles for each component: `gas.TPX`. Then, we can get the specific enthalpy of the mixture with `gas.enthalpy_mole`. \n",
    "\n",
    "However, to get the extensive enthalpy of the mixture, we need to multiply this by the number of moles of the mixture. The resulting total enthalpy will be per 1 kmol of fuel, since that was the basis for our reaction stoichiometry calculations:"
   ]
  },
  {
   "cell_type": "code",
   "execution_count": 12,
   "metadata": {},
   "outputs": [
    {
     "name": "stdout",
     "output_type": "stream",
     "text": [
      "Heat output: 661.44 megajoule / kilomole\n"
     ]
    }
   ],
   "source": [
    "gas_reactants = ct.Solution('gri30.yaml')\n",
    "reactant_string = (\n",
    "    'CH4:1.0, '\n",
    "    f\"O2:{0.21 * coeffs['air']: .3f}, \"\n",
    "    f\"N2:{0.79 * coeffs['air']: .3f}\"\n",
    "    )\n",
    "gas.TPX = to_si(temperature_in), to_si(pressure_in), reactant_string\n",
    "\n",
    "# per 1 kmol of fuel\n",
    "moles_reactants = 1.0 + coeffs['air']\n",
    "enthalpy_reactants = Q_(gas.enthalpy_mole, 'J/kmol') * moles_reactants\n",
    "\n",
    "gas_products = ct.Solution('gri30.yaml')\n",
    "product_string = ', '.join([f'{sp}:{coeffs[sp]: .3f}' for sp in products])\n",
    "gas.TPX = to_si(temperature_out), to_si(pressure_out), product_string\n",
    "\n",
    "# per 1 kmol of fuel\n",
    "moles_products = sum([coeffs[p] for p in products])\n",
    "enthalpy_products = Q_(gas.enthalpy_mole, 'J/kmol') * moles_products\n",
    "\n",
    "heat = enthalpy_reactants - enthalpy_products\n",
    "print(f'Heat output: {heat.to(\"MJ/kmol\"): .2f}')"
   ]
  },
  {
   "cell_type": "markdown",
   "metadata": {},
   "source": [
    "This route is a bit simpler, and we get effectively the same value."
   ]
  },
  {
   "cell_type": "markdown",
   "metadata": {},
   "source": [
    "### Calculate efficiency\n",
    "\n",
    "Then, the First Law efficiency is based on either the lower or higher heating value of the fuel:\n",
    "\n",
    "$$\n",
    "\\eta_{\\text{LHV}} = \\frac{Q_{\\text{out}}}{\\text{LHV}} \\\\\n",
    "\\eta_{\\text{HHV}} = \\frac{Q_{\\text{out}}}{\\text{HHV}}\n",
    "$$\n",
    "\n",
    "which we can find for methane based on tabulated information: LHV = 50,032 kJ/kg and HHV = 55,516 kJ/kg. (Or, we can calculate these values, as shown later: {doc}`heating-values`.)"
   ]
  },
  {
   "cell_type": "code",
   "execution_count": 13,
   "metadata": {},
   "outputs": [
    {
     "name": "stdout",
     "output_type": "stream",
     "text": [
      "First Law efficiencies:\n",
      " lower heating value:  82.42 %\n",
      " higher heating value:  74.28 %\n"
     ]
    }
   ],
   "source": [
    "molecular_weight_methane = Q_(16.04, 'kg/kmol')\n",
    "\n",
    "heating_value_lower = Q_(50032, 'kJ/kg') * molecular_weight_methane\n",
    "heating_value_higher = Q_(55516, 'kJ/kg') * molecular_weight_methane\n",
    "\n",
    "efficiency_lower = 100 * heat / heating_value_lower\n",
    "efficiency_higher = 100 * heat / heating_value_higher\n",
    "\n",
    "print('First Law efficiencies:')\n",
    "print(f' lower heating value: {to_si(efficiency_lower): .2f} %')\n",
    "print(f' higher heating value: {to_si(efficiency_higher): .2f} %')"
   ]
  },
  {
   "cell_type": "markdown",
   "metadata": {},
   "source": [
    "The furnace appears very efficient from a first-law perspective."
   ]
  },
  {
   "cell_type": "markdown",
   "metadata": {},
   "source": [
    "## Second Law efficiency\n",
    "\n",
    "The Second Law efficiency is based on the exergy transfer of heat out of the system and the exergy transfer in from the fuel:\n",
    "\n",
    "$$\n",
    "\\eta_2 = \\frac{X_{Q_{\\text{out}}}}{X_{\\text{fuel}}} \\;,\n",
    "$$\n",
    "\n",
    "where the exergy flow due to heat transfer is\n",
    "\n",
    "$$\n",
    "X_{Q_{\\text{out}}} = Q_{\\text{out}} \\left(1 - \\frac{T_0}{T_{\\text{bldg}}} \\right) \\;.\n",
    "$$\n",
    "\n",
    "The dead state temperature is the temperature of the outdoor air."
   ]
  },
  {
   "cell_type": "code",
   "execution_count": 14,
   "metadata": {},
   "outputs": [
    {
     "name": "stdout",
     "output_type": "stream",
     "text": [
      "Exergy of heat transfer: 71712.94 kilojoule / kilomole\n"
     ]
    }
   ],
   "source": [
    "exergy_heat = heat * (1 - (temperature_in / temperature_building))\n",
    "print(f'Exergy of heat transfer: {exergy_heat.to(\"kJ/kmol\"): .2f}')"
   ]
  },
  {
   "cell_type": "markdown",
   "metadata": {},
   "source": [
    "(exergy-fuel)=\n",
    "### Exergy of a fuel\n",
    "\n",
    "The exergy of the fuel is the maximum possible work obtainable by the fuel:\n",
    "\n",
    "$$\n",
    "X_{\\text{fuel}} = H_{\\text{reac}} - H_{\\text{prod}} - T_0 \\left( S_{\\text{reac}} - S_{\\text{prod}} \\right) \\;,\n",
    "$$\n",
    "\n",
    "where $H_{\\text{reac}}$ and $H_{\\text{prod}}$ are the enthalpy of the reactants and products (per mole of fuel), and $S_{\\text{reac}}$ and $S_{\\text{prod}}$ are the entropy of the reactants and products (per mole of fuel); both are evaluated at the dead state temperature ($T_0$) and pressure. Furthermore, the entropy of each reactant/product is evaluated at its partial pressure.\n",
    "\n",
    "If the dead state temperature is the same as the reference temperature, $T_0 = T_{\\text{ref}}$ = 25°C, then $(H_{\\text{reac}} - H_{\\text{prod}})$ will be bounded by the lower and higher heating values of the fuel, with the exact value depending on the dead state definition. (The term involving entropy is much smaller.)\n",
    "\n",
    "Thus, the fuel exergy can be found in two ways:\n",
    "\n",
    "1. Approximate using the heating value, or $x_{\\text{fuel}} \\approx \\text{HV}$.\n",
    "2. Calculate based on the dead state conditions, or\n",
    "\n",
    "So, we can calculate the Second Law efficiency using the lower heating value (to be conservative):"
   ]
  },
  {
   "cell_type": "code",
   "execution_count": 15,
   "metadata": {},
   "outputs": [
    {
     "name": "stdout",
     "output_type": "stream",
     "text": [
      "Second Law efficiency (LHV):  8.94%\n"
     ]
    }
   ],
   "source": [
    "efficiency_second = 100 * to_si(exergy_heat / heating_value_lower)\n",
    "print(f'Second Law efficiency (LHV): {efficiency_second: .2f}%')"
   ]
  },
  {
   "cell_type": "markdown",
   "metadata": {},
   "source": [
    "We can also _calculate_ the exergy of the fuel, based on the specific dead state conditions here. To do this, we need to calculate the enthalpy and entropy of the reactants and products involved, per mole of fuel. These are\n",
    "\n",
    "$$\n",
    "H = \\sum_{i=1}^C n_i \\overline{h}_{i, 0} (T_0) \\quad \\text{and} \\\\\n",
    "S = \\sum_{i=1}^C n_i \\overline{s}_{i, 0} (T_0, P_i) \\;, \\\\\n",
    "$$\n",
    "\n",
    "where $C$ is the number of components in the reactants or products, $n_i$ is the stoichiometric coefficient for component $i$ (i.e., the number of moles per mole of fuel), $\\overline{h}_{i, 0}$ is the molar specific enthalpy for component $i$, $\\overline{s}_{i, 0}$ is the molar specific entropy for component $i$, and $P_i$ is the partial pressure of component $i$: $P_i = y_i P$.\n",
    "\n",
    "To calculate the exergy of the fuel, we only _really_ need to consider the components that actively participate in the chemical reaction, meaning the fuel, oxygen, carbon dioxide, and water. All other reactants and products, including the excess air, are at the same state before and after the reaction, and so do not contribute. However, for simplicity, we can include all reactants and products."
   ]
  },
  {
   "cell_type": "code",
   "execution_count": 16,
   "metadata": {},
   "outputs": [
    {
     "name": "stdout",
     "output_type": "stream",
     "text": [
      "Second Law efficiency:  8.86%\n"
     ]
    }
   ],
   "source": [
    "gas = ct.Solution('gri30.yaml')\n",
    "\n",
    "enthalpies = {}\n",
    "entropies = {}\n",
    "\n",
    "moles_reactants = 1.0 + coeffs['air']\n",
    "\n",
    "partial_pressure = (1.0 / moles_reactants) * pressure_in\n",
    "gas.TPX = to_si(temperature_in), to_si(partial_pressure), 'CH4:1.0'\n",
    "enthalpies['CH4'] = Q_(gas.enthalpy_mole, 'J/kmol')\n",
    "entropies['CH4'] = Q_(gas.entropy_mole, 'J/(K*kmol)')\n",
    "\n",
    "partial_pressure = (coeffs['air'] / moles_reactants) * pressure_in\n",
    "gas.TPX = to_si(temperature_in), to_si(partial_pressure), 'O2:0.21, N2:0.79'\n",
    "enthalpies['air'] = Q_(gas.enthalpy_mole, 'J/kmol')\n",
    "entropies['air'] = Q_(gas.entropy_mole, 'J/(K*kmol)')\n",
    "\n",
    "# per kmol of fuel\n",
    "enthalpy_reactants = (\n",
    "    enthalpies['CH4'] + coeffs['air'] * enthalpies['air']\n",
    "    )\n",
    "entropy_reactants = (\n",
    "    entropies['CH4'] + coeffs['air'] * entropies['air']\n",
    "    )\n",
    "\n",
    "moles_products = sum([coeffs[c] for c in products])\n",
    "for product in products:\n",
    "    partial_pressure = (coeffs[product] / moles_products) * pressure_in\n",
    "    gas.TPX = (\n",
    "        to_si(temperature_in), to_si(partial_pressure), \n",
    "        f'{product}:1.0'\n",
    "        )\n",
    "    enthalpies[product] = Q_(gas.enthalpy_mole, 'J/kmol')\n",
    "    entropies[product] = Q_(gas.entropy_mole, 'J/(K*kmol)')\n",
    "\n",
    "# per kmol of fuel\n",
    "enthalpy_products = sum([\n",
    "    coeffs[p] * enthalpies[p] for p in products\n",
    "    ])\n",
    "entropy_products = sum([\n",
    "    coeffs[p] * entropies[p] for p in products\n",
    "    ])\n",
    "\n",
    "exergy_fuel = (\n",
    "    enthalpy_reactants - enthalpy_products - \n",
    "    temperature_in * (entropy_reactants - entropy_products)\n",
    "    )\n",
    "\n",
    "efficiency_second = 100 * to_si(exergy_heat / exergy_fuel)\n",
    "print(f'Second Law efficiency: {efficiency_second: .2f}%')"
   ]
  },
  {
   "cell_type": "markdown",
   "metadata": {},
   "source": [
    "We get a similar, but slightly lower, Second Law efficiency when calculating it based on the more-correct exergy of the fuel.\n",
    "\n",
    "Either way, we see that the efficiency of this furnace is quite low from a Second Law perspective, due to the significant exergy leaving with the exhaust."
   ]
  }
 ],
 "metadata": {
  "kernelspec": {
   "display_name": "Python 3 (ipykernel)",
   "language": "python",
   "name": "python3"
  },
  "language_info": {
   "codemirror_mode": {
    "name": "ipython",
    "version": 3
   },
   "file_extension": ".py",
   "mimetype": "text/x-python",
   "name": "python",
   "nbconvert_exporter": "python",
   "pygments_lexer": "ipython3",
   "version": "3.10.4"
  }
 },
 "nbformat": 4,
 "nbformat_minor": 4
}
